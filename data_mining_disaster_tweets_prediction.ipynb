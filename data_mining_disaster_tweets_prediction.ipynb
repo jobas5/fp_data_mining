{
  "nbformat": 4,
  "nbformat_minor": 0,
  "metadata": {
    "colab": {
      "name": "data_mining_disaster_tweets_prediction.ipynb",
      "provenance": [],
      "authorship_tag": "ABX9TyMyFzK5NoTD3tSDeVEgYj5r",
      "include_colab_link": true
    },
    "kernelspec": {
      "name": "python3",
      "display_name": "Python 3"
    },
    "language_info": {
      "name": "python"
    }
  },
  "cells": [
    {
      "cell_type": "markdown",
      "metadata": {
        "id": "view-in-github",
        "colab_type": "text"
      },
      "source": [
        "<a href=\"https://colab.research.google.com/github/jobas5/fp_data_mining/blob/main/data_mining_disaster_tweets_prediction.ipynb\" target=\"_parent\"><img src=\"https://colab.research.google.com/assets/colab-badge.svg\" alt=\"Open In Colab\"/></a>"
      ]
    },
    {
      "cell_type": "markdown",
      "source": [
        "# Downloading Dataset"
      ],
      "metadata": {
        "id": "6f1cgAYXkf2c"
      }
    },
    {
      "cell_type": "code",
      "execution_count": 1,
      "metadata": {
        "id": "avhsOvP3XwN6"
      },
      "outputs": [],
      "source": [
        "data_train = !gdown -- 173LxuZawUWO-h6nVRsV5qaXiwmIN-vcB\n",
        "data_test = !gdown -- 1P-UkhwPMhNyHzgJbT_SmBzc0Z4Tcmbgc"
      ]
    },
    {
      "cell_type": "markdown",
      "source": [
        "# Import Packages and Load Dataset"
      ],
      "metadata": {
        "id": "eKaGiEynboQ8"
      }
    },
    {
      "cell_type": "code",
      "source": [
        "import re\n",
        "import string\n",
        "import shutil\n",
        "import tensorflow as tf\n",
        "from tensorflow.keras.models import Sequential\n",
        "from tensorflow.keras.layers import Embedding, Dense, GlobalMaxPooling1D, Conv1D, Dropout, TextVectorization\n",
        "from tensorflow.keras.losses import BinaryCrossentropy\n",
        "import matplotlib.pyplot as plt\n",
        "import pandas as pd\n",
        "import numpy as np\n",
        "\n",
        "import warnings\n",
        "warnings.filterwarnings('ignore')"
      ],
      "metadata": {
        "id": "i9x3fMc2X9sU"
      },
      "execution_count": 2,
      "outputs": []
    },
    {
      "cell_type": "code",
      "source": [
        "train = pd.read_csv(\"/content/train.csv\")\n",
        "test = pd.read_csv(\"/content/test.csv\")"
      ],
      "metadata": {
        "id": "wQMYVAo2b2l_"
      },
      "execution_count": 3,
      "outputs": []
    },
    {
      "cell_type": "markdown",
      "source": [
        "# Dataset Overview"
      ],
      "metadata": {
        "id": "eSeETRrOcZve"
      }
    },
    {
      "cell_type": "code",
      "source": [
        "train.head()"
      ],
      "metadata": {
        "colab": {
          "base_uri": "https://localhost:8080/",
          "height": 206
        },
        "id": "VF0or3jVcj9Z",
        "outputId": "10a88409-f059-4308-8a90-2597e3ceb371"
      },
      "execution_count": 4,
      "outputs": [
        {
          "output_type": "execute_result",
          "data": {
            "text/plain": [
              "   id keyword location                                               text  \\\n",
              "0   1     NaN      NaN  Our Deeds are the Reason of this #earthquake M...   \n",
              "1   4     NaN      NaN             Forest fire near La Ronge Sask. Canada   \n",
              "2   5     NaN      NaN  All residents asked to 'shelter in place' are ...   \n",
              "3   6     NaN      NaN  13,000 people receive #wildfires evacuation or...   \n",
              "4   7     NaN      NaN  Just got sent this photo from Ruby #Alaska as ...   \n",
              "\n",
              "   target  \n",
              "0       1  \n",
              "1       1  \n",
              "2       1  \n",
              "3       1  \n",
              "4       1  "
            ],
            "text/html": [
              "\n",
              "  <div id=\"df-074e8696-4ff0-47e0-adb8-71c6e8431ee2\">\n",
              "    <div class=\"colab-df-container\">\n",
              "      <div>\n",
              "<style scoped>\n",
              "    .dataframe tbody tr th:only-of-type {\n",
              "        vertical-align: middle;\n",
              "    }\n",
              "\n",
              "    .dataframe tbody tr th {\n",
              "        vertical-align: top;\n",
              "    }\n",
              "\n",
              "    .dataframe thead th {\n",
              "        text-align: right;\n",
              "    }\n",
              "</style>\n",
              "<table border=\"1\" class=\"dataframe\">\n",
              "  <thead>\n",
              "    <tr style=\"text-align: right;\">\n",
              "      <th></th>\n",
              "      <th>id</th>\n",
              "      <th>keyword</th>\n",
              "      <th>location</th>\n",
              "      <th>text</th>\n",
              "      <th>target</th>\n",
              "    </tr>\n",
              "  </thead>\n",
              "  <tbody>\n",
              "    <tr>\n",
              "      <th>0</th>\n",
              "      <td>1</td>\n",
              "      <td>NaN</td>\n",
              "      <td>NaN</td>\n",
              "      <td>Our Deeds are the Reason of this #earthquake M...</td>\n",
              "      <td>1</td>\n",
              "    </tr>\n",
              "    <tr>\n",
              "      <th>1</th>\n",
              "      <td>4</td>\n",
              "      <td>NaN</td>\n",
              "      <td>NaN</td>\n",
              "      <td>Forest fire near La Ronge Sask. Canada</td>\n",
              "      <td>1</td>\n",
              "    </tr>\n",
              "    <tr>\n",
              "      <th>2</th>\n",
              "      <td>5</td>\n",
              "      <td>NaN</td>\n",
              "      <td>NaN</td>\n",
              "      <td>All residents asked to 'shelter in place' are ...</td>\n",
              "      <td>1</td>\n",
              "    </tr>\n",
              "    <tr>\n",
              "      <th>3</th>\n",
              "      <td>6</td>\n",
              "      <td>NaN</td>\n",
              "      <td>NaN</td>\n",
              "      <td>13,000 people receive #wildfires evacuation or...</td>\n",
              "      <td>1</td>\n",
              "    </tr>\n",
              "    <tr>\n",
              "      <th>4</th>\n",
              "      <td>7</td>\n",
              "      <td>NaN</td>\n",
              "      <td>NaN</td>\n",
              "      <td>Just got sent this photo from Ruby #Alaska as ...</td>\n",
              "      <td>1</td>\n",
              "    </tr>\n",
              "  </tbody>\n",
              "</table>\n",
              "</div>\n",
              "      <button class=\"colab-df-convert\" onclick=\"convertToInteractive('df-074e8696-4ff0-47e0-adb8-71c6e8431ee2')\"\n",
              "              title=\"Convert this dataframe to an interactive table.\"\n",
              "              style=\"display:none;\">\n",
              "        \n",
              "  <svg xmlns=\"http://www.w3.org/2000/svg\" height=\"24px\"viewBox=\"0 0 24 24\"\n",
              "       width=\"24px\">\n",
              "    <path d=\"M0 0h24v24H0V0z\" fill=\"none\"/>\n",
              "    <path d=\"M18.56 5.44l.94 2.06.94-2.06 2.06-.94-2.06-.94-.94-2.06-.94 2.06-2.06.94zm-11 1L8.5 8.5l.94-2.06 2.06-.94-2.06-.94L8.5 2.5l-.94 2.06-2.06.94zm10 10l.94 2.06.94-2.06 2.06-.94-2.06-.94-.94-2.06-.94 2.06-2.06.94z\"/><path d=\"M17.41 7.96l-1.37-1.37c-.4-.4-.92-.59-1.43-.59-.52 0-1.04.2-1.43.59L10.3 9.45l-7.72 7.72c-.78.78-.78 2.05 0 2.83L4 21.41c.39.39.9.59 1.41.59.51 0 1.02-.2 1.41-.59l7.78-7.78 2.81-2.81c.8-.78.8-2.07 0-2.86zM5.41 20L4 18.59l7.72-7.72 1.47 1.35L5.41 20z\"/>\n",
              "  </svg>\n",
              "      </button>\n",
              "      \n",
              "  <style>\n",
              "    .colab-df-container {\n",
              "      display:flex;\n",
              "      flex-wrap:wrap;\n",
              "      gap: 12px;\n",
              "    }\n",
              "\n",
              "    .colab-df-convert {\n",
              "      background-color: #E8F0FE;\n",
              "      border: none;\n",
              "      border-radius: 50%;\n",
              "      cursor: pointer;\n",
              "      display: none;\n",
              "      fill: #1967D2;\n",
              "      height: 32px;\n",
              "      padding: 0 0 0 0;\n",
              "      width: 32px;\n",
              "    }\n",
              "\n",
              "    .colab-df-convert:hover {\n",
              "      background-color: #E2EBFA;\n",
              "      box-shadow: 0px 1px 2px rgba(60, 64, 67, 0.3), 0px 1px 3px 1px rgba(60, 64, 67, 0.15);\n",
              "      fill: #174EA6;\n",
              "    }\n",
              "\n",
              "    [theme=dark] .colab-df-convert {\n",
              "      background-color: #3B4455;\n",
              "      fill: #D2E3FC;\n",
              "    }\n",
              "\n",
              "    [theme=dark] .colab-df-convert:hover {\n",
              "      background-color: #434B5C;\n",
              "      box-shadow: 0px 1px 3px 1px rgba(0, 0, 0, 0.15);\n",
              "      filter: drop-shadow(0px 1px 2px rgba(0, 0, 0, 0.3));\n",
              "      fill: #FFFFFF;\n",
              "    }\n",
              "  </style>\n",
              "\n",
              "      <script>\n",
              "        const buttonEl =\n",
              "          document.querySelector('#df-074e8696-4ff0-47e0-adb8-71c6e8431ee2 button.colab-df-convert');\n",
              "        buttonEl.style.display =\n",
              "          google.colab.kernel.accessAllowed ? 'block' : 'none';\n",
              "\n",
              "        async function convertToInteractive(key) {\n",
              "          const element = document.querySelector('#df-074e8696-4ff0-47e0-adb8-71c6e8431ee2');\n",
              "          const dataTable =\n",
              "            await google.colab.kernel.invokeFunction('convertToInteractive',\n",
              "                                                     [key], {});\n",
              "          if (!dataTable) return;\n",
              "\n",
              "          const docLinkHtml = 'Like what you see? Visit the ' +\n",
              "            '<a target=\"_blank\" href=https://colab.research.google.com/notebooks/data_table.ipynb>data table notebook</a>'\n",
              "            + ' to learn more about interactive tables.';\n",
              "          element.innerHTML = '';\n",
              "          dataTable['output_type'] = 'display_data';\n",
              "          await google.colab.output.renderOutput(dataTable, element);\n",
              "          const docLink = document.createElement('div');\n",
              "          docLink.innerHTML = docLinkHtml;\n",
              "          element.appendChild(docLink);\n",
              "        }\n",
              "      </script>\n",
              "    </div>\n",
              "  </div>\n",
              "  "
            ]
          },
          "metadata": {},
          "execution_count": 4
        }
      ]
    },
    {
      "cell_type": "code",
      "source": [
        "test.head()"
      ],
      "metadata": {
        "colab": {
          "base_uri": "https://localhost:8080/",
          "height": 206
        },
        "id": "UInP7TCwdFYN",
        "outputId": "8d522cdc-9ce2-4996-c53f-3d0603a4a7e0"
      },
      "execution_count": 5,
      "outputs": [
        {
          "output_type": "execute_result",
          "data": {
            "text/plain": [
              "   id keyword location                                               text\n",
              "0   0     NaN      NaN                 Just happened a terrible car crash\n",
              "1   2     NaN      NaN  Heard about #earthquake is different cities, s...\n",
              "2   3     NaN      NaN  there is a forest fire at spot pond, geese are...\n",
              "3   9     NaN      NaN           Apocalypse lighting. #Spokane #wildfires\n",
              "4  11     NaN      NaN      Typhoon Soudelor kills 28 in China and Taiwan"
            ],
            "text/html": [
              "\n",
              "  <div id=\"df-17630dd1-bf3a-45c9-af1e-f39983a2ac47\">\n",
              "    <div class=\"colab-df-container\">\n",
              "      <div>\n",
              "<style scoped>\n",
              "    .dataframe tbody tr th:only-of-type {\n",
              "        vertical-align: middle;\n",
              "    }\n",
              "\n",
              "    .dataframe tbody tr th {\n",
              "        vertical-align: top;\n",
              "    }\n",
              "\n",
              "    .dataframe thead th {\n",
              "        text-align: right;\n",
              "    }\n",
              "</style>\n",
              "<table border=\"1\" class=\"dataframe\">\n",
              "  <thead>\n",
              "    <tr style=\"text-align: right;\">\n",
              "      <th></th>\n",
              "      <th>id</th>\n",
              "      <th>keyword</th>\n",
              "      <th>location</th>\n",
              "      <th>text</th>\n",
              "    </tr>\n",
              "  </thead>\n",
              "  <tbody>\n",
              "    <tr>\n",
              "      <th>0</th>\n",
              "      <td>0</td>\n",
              "      <td>NaN</td>\n",
              "      <td>NaN</td>\n",
              "      <td>Just happened a terrible car crash</td>\n",
              "    </tr>\n",
              "    <tr>\n",
              "      <th>1</th>\n",
              "      <td>2</td>\n",
              "      <td>NaN</td>\n",
              "      <td>NaN</td>\n",
              "      <td>Heard about #earthquake is different cities, s...</td>\n",
              "    </tr>\n",
              "    <tr>\n",
              "      <th>2</th>\n",
              "      <td>3</td>\n",
              "      <td>NaN</td>\n",
              "      <td>NaN</td>\n",
              "      <td>there is a forest fire at spot pond, geese are...</td>\n",
              "    </tr>\n",
              "    <tr>\n",
              "      <th>3</th>\n",
              "      <td>9</td>\n",
              "      <td>NaN</td>\n",
              "      <td>NaN</td>\n",
              "      <td>Apocalypse lighting. #Spokane #wildfires</td>\n",
              "    </tr>\n",
              "    <tr>\n",
              "      <th>4</th>\n",
              "      <td>11</td>\n",
              "      <td>NaN</td>\n",
              "      <td>NaN</td>\n",
              "      <td>Typhoon Soudelor kills 28 in China and Taiwan</td>\n",
              "    </tr>\n",
              "  </tbody>\n",
              "</table>\n",
              "</div>\n",
              "      <button class=\"colab-df-convert\" onclick=\"convertToInteractive('df-17630dd1-bf3a-45c9-af1e-f39983a2ac47')\"\n",
              "              title=\"Convert this dataframe to an interactive table.\"\n",
              "              style=\"display:none;\">\n",
              "        \n",
              "  <svg xmlns=\"http://www.w3.org/2000/svg\" height=\"24px\"viewBox=\"0 0 24 24\"\n",
              "       width=\"24px\">\n",
              "    <path d=\"M0 0h24v24H0V0z\" fill=\"none\"/>\n",
              "    <path d=\"M18.56 5.44l.94 2.06.94-2.06 2.06-.94-2.06-.94-.94-2.06-.94 2.06-2.06.94zm-11 1L8.5 8.5l.94-2.06 2.06-.94-2.06-.94L8.5 2.5l-.94 2.06-2.06.94zm10 10l.94 2.06.94-2.06 2.06-.94-2.06-.94-.94-2.06-.94 2.06-2.06.94z\"/><path d=\"M17.41 7.96l-1.37-1.37c-.4-.4-.92-.59-1.43-.59-.52 0-1.04.2-1.43.59L10.3 9.45l-7.72 7.72c-.78.78-.78 2.05 0 2.83L4 21.41c.39.39.9.59 1.41.59.51 0 1.02-.2 1.41-.59l7.78-7.78 2.81-2.81c.8-.78.8-2.07 0-2.86zM5.41 20L4 18.59l7.72-7.72 1.47 1.35L5.41 20z\"/>\n",
              "  </svg>\n",
              "      </button>\n",
              "      \n",
              "  <style>\n",
              "    .colab-df-container {\n",
              "      display:flex;\n",
              "      flex-wrap:wrap;\n",
              "      gap: 12px;\n",
              "    }\n",
              "\n",
              "    .colab-df-convert {\n",
              "      background-color: #E8F0FE;\n",
              "      border: none;\n",
              "      border-radius: 50%;\n",
              "      cursor: pointer;\n",
              "      display: none;\n",
              "      fill: #1967D2;\n",
              "      height: 32px;\n",
              "      padding: 0 0 0 0;\n",
              "      width: 32px;\n",
              "    }\n",
              "\n",
              "    .colab-df-convert:hover {\n",
              "      background-color: #E2EBFA;\n",
              "      box-shadow: 0px 1px 2px rgba(60, 64, 67, 0.3), 0px 1px 3px 1px rgba(60, 64, 67, 0.15);\n",
              "      fill: #174EA6;\n",
              "    }\n",
              "\n",
              "    [theme=dark] .colab-df-convert {\n",
              "      background-color: #3B4455;\n",
              "      fill: #D2E3FC;\n",
              "    }\n",
              "\n",
              "    [theme=dark] .colab-df-convert:hover {\n",
              "      background-color: #434B5C;\n",
              "      box-shadow: 0px 1px 3px 1px rgba(0, 0, 0, 0.15);\n",
              "      filter: drop-shadow(0px 1px 2px rgba(0, 0, 0, 0.3));\n",
              "      fill: #FFFFFF;\n",
              "    }\n",
              "  </style>\n",
              "\n",
              "      <script>\n",
              "        const buttonEl =\n",
              "          document.querySelector('#df-17630dd1-bf3a-45c9-af1e-f39983a2ac47 button.colab-df-convert');\n",
              "        buttonEl.style.display =\n",
              "          google.colab.kernel.accessAllowed ? 'block' : 'none';\n",
              "\n",
              "        async function convertToInteractive(key) {\n",
              "          const element = document.querySelector('#df-17630dd1-bf3a-45c9-af1e-f39983a2ac47');\n",
              "          const dataTable =\n",
              "            await google.colab.kernel.invokeFunction('convertToInteractive',\n",
              "                                                     [key], {});\n",
              "          if (!dataTable) return;\n",
              "\n",
              "          const docLinkHtml = 'Like what you see? Visit the ' +\n",
              "            '<a target=\"_blank\" href=https://colab.research.google.com/notebooks/data_table.ipynb>data table notebook</a>'\n",
              "            + ' to learn more about interactive tables.';\n",
              "          element.innerHTML = '';\n",
              "          dataTable['output_type'] = 'display_data';\n",
              "          await google.colab.output.renderOutput(dataTable, element);\n",
              "          const docLink = document.createElement('div');\n",
              "          docLink.innerHTML = docLinkHtml;\n",
              "          element.appendChild(docLink);\n",
              "        }\n",
              "      </script>\n",
              "    </div>\n",
              "  </div>\n",
              "  "
            ]
          },
          "metadata": {},
          "execution_count": 5
        }
      ]
    },
    {
      "cell_type": "code",
      "source": [
        "train.shape"
      ],
      "metadata": {
        "colab": {
          "base_uri": "https://localhost:8080/"
        },
        "id": "_Okv4scMdGeF",
        "outputId": "45e9466f-1fff-40b1-f916-aa7f9af1da9e"
      },
      "execution_count": 6,
      "outputs": [
        {
          "output_type": "execute_result",
          "data": {
            "text/plain": [
              "(7613, 5)"
            ]
          },
          "metadata": {},
          "execution_count": 6
        }
      ]
    },
    {
      "cell_type": "code",
      "source": [
        "test.shape"
      ],
      "metadata": {
        "colab": {
          "base_uri": "https://localhost:8080/"
        },
        "id": "yIrdcNR1dKz1",
        "outputId": "36c96b0f-6314-41cb-8c4d-94f21d59ef8e"
      },
      "execution_count": 7,
      "outputs": [
        {
          "output_type": "execute_result",
          "data": {
            "text/plain": [
              "(3263, 4)"
            ]
          },
          "metadata": {},
          "execution_count": 7
        }
      ]
    },
    {
      "cell_type": "code",
      "source": [
        "train.info()"
      ],
      "metadata": {
        "colab": {
          "base_uri": "https://localhost:8080/"
        },
        "id": "KBIiNzwJdMMc",
        "outputId": "cb3b9185-3aee-44c6-e52b-d41dfddfeab5"
      },
      "execution_count": 8,
      "outputs": [
        {
          "output_type": "stream",
          "name": "stdout",
          "text": [
            "<class 'pandas.core.frame.DataFrame'>\n",
            "RangeIndex: 7613 entries, 0 to 7612\n",
            "Data columns (total 5 columns):\n",
            " #   Column    Non-Null Count  Dtype \n",
            "---  ------    --------------  ----- \n",
            " 0   id        7613 non-null   int64 \n",
            " 1   keyword   7552 non-null   object\n",
            " 2   location  5080 non-null   object\n",
            " 3   text      7613 non-null   object\n",
            " 4   target    7613 non-null   int64 \n",
            "dtypes: int64(2), object(3)\n",
            "memory usage: 297.5+ KB\n"
          ]
        }
      ]
    },
    {
      "cell_type": "code",
      "source": [
        "test.info()"
      ],
      "metadata": {
        "colab": {
          "base_uri": "https://localhost:8080/"
        },
        "id": "8MKQ71xqdRpQ",
        "outputId": "34ddee64-fa9d-46cf-c59c-58d4656c445e"
      },
      "execution_count": 9,
      "outputs": [
        {
          "output_type": "stream",
          "name": "stdout",
          "text": [
            "<class 'pandas.core.frame.DataFrame'>\n",
            "RangeIndex: 3263 entries, 0 to 3262\n",
            "Data columns (total 4 columns):\n",
            " #   Column    Non-Null Count  Dtype \n",
            "---  ------    --------------  ----- \n",
            " 0   id        3263 non-null   int64 \n",
            " 1   keyword   3237 non-null   object\n",
            " 2   location  2158 non-null   object\n",
            " 3   text      3263 non-null   object\n",
            "dtypes: int64(1), object(3)\n",
            "memory usage: 102.1+ KB\n"
          ]
        }
      ]
    },
    {
      "cell_type": "code",
      "source": [
        "train.isnull().sum()"
      ],
      "metadata": {
        "colab": {
          "base_uri": "https://localhost:8080/"
        },
        "id": "D2UHYDQ7dSrs",
        "outputId": "550dec9a-6a55-45a9-ea4c-87f4950d90c0"
      },
      "execution_count": 10,
      "outputs": [
        {
          "output_type": "execute_result",
          "data": {
            "text/plain": [
              "id             0\n",
              "keyword       61\n",
              "location    2533\n",
              "text           0\n",
              "target         0\n",
              "dtype: int64"
            ]
          },
          "metadata": {},
          "execution_count": 10
        }
      ]
    },
    {
      "cell_type": "code",
      "source": [
        "train['keyword'].fillna(train['keyword'].mode()[0], inplace=True)"
      ],
      "metadata": {
        "id": "sVvqoPyudU9n"
      },
      "execution_count": 11,
      "outputs": []
    },
    {
      "cell_type": "code",
      "source": [
        "train.isnull().sum()"
      ],
      "metadata": {
        "colab": {
          "base_uri": "https://localhost:8080/"
        },
        "id": "EGX-bouRfS1Q",
        "outputId": "5208e3a3-c7a4-43f6-b6fc-20420a71de06"
      },
      "execution_count": 12,
      "outputs": [
        {
          "output_type": "execute_result",
          "data": {
            "text/plain": [
              "id             0\n",
              "keyword        0\n",
              "location    2533\n",
              "text           0\n",
              "target         0\n",
              "dtype: int64"
            ]
          },
          "metadata": {},
          "execution_count": 12
        }
      ]
    },
    {
      "cell_type": "markdown",
      "source": [
        "# Data Prepocessing and Cleansing"
      ],
      "metadata": {
        "id": "LizkJy7cfhXF"
      }
    },
    {
      "cell_type": "markdown",
      "source": [
        "Regex manipulation"
      ],
      "metadata": {
        "id": "Q7jGHwTaf6n1"
      }
    },
    {
      "cell_type": "code",
      "source": [
        "def custom_tokenize(input_data):\n",
        "    lowercase = tf.strings.lower(input_data)\n",
        "    stripped_html = tf.strings.regex_replace(lowercase, '<br />', ' ')\n",
        "    stripped_hyperlink = tf.strings.regex_replace(stripped_html, 'https?://\\S+|www\\.\\S+', '')\n",
        "    stripped_square_brackets = tf.strings.regex_replace(stripped_hyperlink, '\\[.*?\\]', '')\n",
        "    stripped_punctuation = tf.strings.regex_replace(stripped_square_brackets, '[%s]' % re.escape(string.punctuation), '')\n",
        "    stripped_punctuation = tf.strings.regex_replace(stripped_punctuation, '\\n', '')\n",
        "    stripped_number = tf.strings.regex_replace(stripped_punctuation, '\\w*\\d\\w*', '')\n",
        "    \n",
        "    return tf.strings.regex_replace(stripped_number, '[%s]' % re.escape(string.punctuation), '')"
      ],
      "metadata": {
        "id": "ybu6-lq9fnHT"
      },
      "execution_count": 13,
      "outputs": []
    },
    {
      "cell_type": "code",
      "source": [
        "train['text'] = custom_tokenize(train['text'])"
      ],
      "metadata": {
        "id": "9qHkrgKNfqAQ"
      },
      "execution_count": 14,
      "outputs": []
    },
    {
      "cell_type": "code",
      "source": [
        "train['text']"
      ],
      "metadata": {
        "colab": {
          "base_uri": "https://localhost:8080/"
        },
        "id": "vVH-4KtCfwoL",
        "outputId": "113bbd5e-fe7a-4653-eaed-ea8220b02d30"
      },
      "execution_count": 15,
      "outputs": [
        {
          "output_type": "execute_result",
          "data": {
            "text/plain": [
              "0       b'our deeds are the reason of this earthquake ...\n",
              "1                b'forest fire near la ronge sask canada'\n",
              "2       b'all residents asked to shelter in place are ...\n",
              "3       b' people receive wildfires evacuation orders ...\n",
              "4       b'just got sent this photo from ruby alaska as...\n",
              "                              ...                        \n",
              "7608    b'two giant cranes holding a bridge collapse i...\n",
              "7609    b'ariaahrary thetawniest the out of control wi...\n",
              "7610                            b'  s of volcano hawaii '\n",
              "7611    b'police investigating after an ebike collided...\n",
              "7612    b'the latest more homes razed by northern cali...\n",
              "Name: text, Length: 7613, dtype: object"
            ]
          },
          "metadata": {},
          "execution_count": 15
        }
      ]
    },
    {
      "cell_type": "markdown",
      "source": [
        "Text Vectorization"
      ],
      "metadata": {
        "id": "tSIhZ4Icf0Uy"
      }
    },
    {
      "cell_type": "code",
      "source": [
        "#hyperParam\n",
        "max_features = 1000\n",
        "sequence_length = 75"
      ],
      "metadata": {
        "id": "cosgSxXyfsQ1"
      },
      "execution_count": 16,
      "outputs": []
    },
    {
      "cell_type": "code",
      "source": [
        "vectorize_layer = TextVectorization(\n",
        "                    standardize = custom_tokenize,\n",
        "                    max_tokens = max_features,\n",
        "                    output_mode = 'int',\n",
        "                    output_sequence_length=sequence_length)"
      ],
      "metadata": {
        "id": "g3-czgx8ghDr"
      },
      "execution_count": 17,
      "outputs": []
    },
    {
      "cell_type": "code",
      "source": [
        "train['text'].values"
      ],
      "metadata": {
        "colab": {
          "base_uri": "https://localhost:8080/"
        },
        "id": "lV2ulcwdgitP",
        "outputId": "7c52269b-2bed-4b5c-d253-2b54730ed191"
      },
      "execution_count": 18,
      "outputs": [
        {
          "output_type": "execute_result",
          "data": {
            "text/plain": [
              "array([b'our deeds are the reason of this earthquake may allah forgive us all',\n",
              "       b'forest fire near la ronge sask canada',\n",
              "       b'all residents asked to shelter in place are being notified by officers no other evacuation or shelter in place orders are expected',\n",
              "       ..., b'  s of volcano hawaii ',\n",
              "       b'police investigating after an ebike collided with a car in little portugal ebike rider suffered serious nonlife threatening injuries',\n",
              "       b'the latest more homes razed by northern california wildfire  abc news '],\n",
              "      dtype=object)"
            ]
          },
          "metadata": {},
          "execution_count": 18
        }
      ]
    },
    {
      "cell_type": "code",
      "source": [
        "vectorize_layer.adapt(train['text'].values)"
      ],
      "metadata": {
        "id": "4pjlNH6ogkko"
      },
      "execution_count": 19,
      "outputs": []
    },
    {
      "cell_type": "code",
      "source": [
        "vectorize_text = vectorize_layer(train['text'].values)\n",
        "vectorize_text"
      ],
      "metadata": {
        "colab": {
          "base_uri": "https://localhost:8080/"
        },
        "id": "F9tLIggRgmID",
        "outputId": "849e76e6-8e8b-4edb-8e02-70562769e444"
      },
      "execution_count": 20,
      "outputs": [
        {
          "output_type": "execute_result",
          "data": {
            "text/plain": [
              "<tf.Tensor: shape=(7613, 75), dtype=int64, numpy=\n",
              "array([[108,   1,  22, ...,   0,   0,   0],\n",
              "       [176,  44, 210, ...,   0,   0,   0],\n",
              "       [ 40,   1,   1, ...,   0,   0,   0],\n",
              "       ...,\n",
              "       [209,   6, 540, ...,   0,   0,   0],\n",
              "       [ 76,   1,  38, ...,   0,   0,   0],\n",
              "       [  2, 193,  52, ...,   0,   0,   0]])>"
            ]
          },
          "metadata": {},
          "execution_count": 20
        }
      ]
    },
    {
      "cell_type": "markdown",
      "source": [
        "# Define Model"
      ],
      "metadata": {
        "id": "sijewp7OguXi"
      }
    },
    {
      "cell_type": "code",
      "source": [
        "Xs = vectorize_text\n",
        "y = train['target']"
      ],
      "metadata": {
        "id": "_rvIYf88gwd2"
      },
      "execution_count": 21,
      "outputs": []
    },
    {
      "cell_type": "code",
      "source": [
        "#hyperparam\n",
        "embedding_dim = 32\n",
        "filters = 128\n",
        "kernel_size = 5\n",
        "dense_dim = 256"
      ],
      "metadata": {
        "id": "yy8EQOQegx0o"
      },
      "execution_count": 22,
      "outputs": []
    },
    {
      "cell_type": "code",
      "source": [
        "model = Sequential([\n",
        "    Embedding(max_features + 1, embedding_dim),\n",
        "    Conv1D(filters=filters, kernel_size=kernel_size, activation='relu'),\n",
        "    GlobalMaxPooling1D(),\n",
        "    Dropout(0.2),\n",
        "    Dense(dense_dim, activation='relu'),\n",
        "    Dense(1, activation='sigmoid')\n",
        "])"
      ],
      "metadata": {
        "id": "3Wv9nc84gzMi"
      },
      "execution_count": 23,
      "outputs": []
    },
    {
      "cell_type": "code",
      "source": [
        "model.compile(loss='binary_crossentropy', optimizer='Adamax', metrics=['accuracy', tf.keras.metrics.Precision(), tf.keras.metrics.Recall()])"
      ],
      "metadata": {
        "id": "CArKaK1Og1V-"
      },
      "execution_count": 24,
      "outputs": []
    },
    {
      "cell_type": "code",
      "source": [
        "model.summary()"
      ],
      "metadata": {
        "colab": {
          "base_uri": "https://localhost:8080/"
        },
        "id": "UrtIYUVThAS2",
        "outputId": "9d90439e-eb4b-4efa-af3c-c5037269ad2c"
      },
      "execution_count": 25,
      "outputs": [
        {
          "output_type": "stream",
          "name": "stdout",
          "text": [
            "Model: \"sequential\"\n",
            "_________________________________________________________________\n",
            " Layer (type)                Output Shape              Param #   \n",
            "=================================================================\n",
            " embedding (Embedding)       (None, None, 32)          32032     \n",
            "                                                                 \n",
            " conv1d (Conv1D)             (None, None, 128)         20608     \n",
            "                                                                 \n",
            " global_max_pooling1d (Globa  (None, 128)              0         \n",
            " lMaxPooling1D)                                                  \n",
            "                                                                 \n",
            " dropout (Dropout)           (None, 128)               0         \n",
            "                                                                 \n",
            " dense (Dense)               (None, 256)               33024     \n",
            "                                                                 \n",
            " dense_1 (Dense)             (None, 1)                 257       \n",
            "                                                                 \n",
            "=================================================================\n",
            "Total params: 85,921\n",
            "Trainable params: 85,921\n",
            "Non-trainable params: 0\n",
            "_________________________________________________________________\n"
          ]
        }
      ]
    },
    {
      "cell_type": "code",
      "source": [
        "NUM_EPOCHS = 15\n",
        "VAL_SPLIT = 0.2"
      ],
      "metadata": {
        "id": "zcBX-8sChFAz"
      },
      "execution_count": 26,
      "outputs": []
    },
    {
      "cell_type": "code",
      "source": [
        "history = model.fit(Xs, y, epochs=NUM_EPOCHS, validation_split=VAL_SPLIT)"
      ],
      "metadata": {
        "colab": {
          "base_uri": "https://localhost:8080/"
        },
        "id": "GhErmHiBhHcx",
        "outputId": "ea924489-20b7-476b-80ba-d7cdd3951594"
      },
      "execution_count": 27,
      "outputs": [
        {
          "output_type": "stream",
          "name": "stdout",
          "text": [
            "Epoch 1/15\n",
            "191/191 [==============================] - 10s 40ms/step - loss: 0.6709 - accuracy: 0.5864 - precision: 0.7172 - recall: 0.0277 - val_loss: 0.6544 - val_accuracy: 0.6087 - val_precision: 0.7580 - val_recall: 0.2341\n",
            "Epoch 2/15\n",
            "191/191 [==============================] - 5s 26ms/step - loss: 0.5702 - accuracy: 0.7258 - precision: 0.7543 - recall: 0.5164 - val_loss: 0.5688 - val_accuracy: 0.7236 - val_precision: 0.7581 - val_recall: 0.5966\n",
            "Epoch 3/15\n",
            "191/191 [==============================] - 5s 29ms/step - loss: 0.4846 - accuracy: 0.7765 - precision: 0.7756 - recall: 0.6596 - val_loss: 0.5392 - val_accuracy: 0.7387 - val_precision: 0.8193 - val_recall: 0.5628\n",
            "Epoch 4/15\n",
            "191/191 [==============================] - 5s 27ms/step - loss: 0.4335 - accuracy: 0.8074 - precision: 0.8135 - recall: 0.7034 - val_loss: 0.4951 - val_accuracy: 0.7702 - val_precision: 0.7947 - val_recall: 0.6827\n",
            "Epoch 5/15\n",
            "191/191 [==============================] - 3s 15ms/step - loss: 0.3965 - accuracy: 0.8248 - precision: 0.8312 - recall: 0.7322 - val_loss: 0.4834 - val_accuracy: 0.7702 - val_precision: 0.7854 - val_recall: 0.6968\n",
            "Epoch 6/15\n",
            "191/191 [==============================] - 3s 14ms/step - loss: 0.3764 - accuracy: 0.8383 - precision: 0.8466 - recall: 0.7518 - val_loss: 0.4820 - val_accuracy: 0.7708 - val_precision: 0.8041 - val_recall: 0.6714\n",
            "Epoch 7/15\n",
            "191/191 [==============================] - 3s 14ms/step - loss: 0.3544 - accuracy: 0.8484 - precision: 0.8596 - recall: 0.7646 - val_loss: 0.4820 - val_accuracy: 0.7695 - val_precision: 0.7841 - val_recall: 0.6968\n",
            "Epoch 8/15\n",
            "191/191 [==============================] - 3s 15ms/step - loss: 0.3354 - accuracy: 0.8583 - precision: 0.8724 - recall: 0.7767 - val_loss: 0.4874 - val_accuracy: 0.7636 - val_precision: 0.7689 - val_recall: 0.7038\n",
            "Epoch 9/15\n",
            "191/191 [==============================] - 3s 15ms/step - loss: 0.3208 - accuracy: 0.8637 - precision: 0.8746 - recall: 0.7892 - val_loss: 0.4909 - val_accuracy: 0.7649 - val_precision: 0.7835 - val_recall: 0.6841\n",
            "Epoch 10/15\n",
            "191/191 [==============================] - 3s 15ms/step - loss: 0.3007 - accuracy: 0.8744 - precision: 0.8855 - recall: 0.8056 - val_loss: 0.4980 - val_accuracy: 0.7676 - val_precision: 0.7868 - val_recall: 0.6869\n",
            "Epoch 11/15\n",
            "191/191 [==============================] - 3s 15ms/step - loss: 0.2872 - accuracy: 0.8808 - precision: 0.8900 - recall: 0.8177 - val_loss: 0.5122 - val_accuracy: 0.7676 - val_precision: 0.8003 - val_recall: 0.6671\n",
            "Epoch 12/15\n",
            "191/191 [==============================] - 3s 15ms/step - loss: 0.2710 - accuracy: 0.8880 - precision: 0.9003 - recall: 0.8251 - val_loss: 0.5295 - val_accuracy: 0.7557 - val_precision: 0.7274 - val_recall: 0.7602\n",
            "Epoch 13/15\n",
            "191/191 [==============================] - 3s 15ms/step - loss: 0.2521 - accuracy: 0.9021 - precision: 0.9116 - recall: 0.8497 - val_loss: 0.5308 - val_accuracy: 0.7656 - val_precision: 0.7943 - val_recall: 0.6700\n",
            "Epoch 14/15\n",
            "191/191 [==============================] - 3s 15ms/step - loss: 0.2386 - accuracy: 0.9041 - precision: 0.9117 - recall: 0.8548 - val_loss: 0.5406 - val_accuracy: 0.7551 - val_precision: 0.7507 - val_recall: 0.7094\n",
            "Epoch 15/15\n",
            "191/191 [==============================] - 3s 15ms/step - loss: 0.2245 - accuracy: 0.9149 - precision: 0.9234 - recall: 0.8700 - val_loss: 0.5663 - val_accuracy: 0.7636 - val_precision: 0.8003 - val_recall: 0.6559\n"
          ]
        }
      ]
    },
    {
      "cell_type": "code",
      "source": [
        "history_dict = history.history\n",
        "history_dict.keys()"
      ],
      "metadata": {
        "colab": {
          "base_uri": "https://localhost:8080/"
        },
        "id": "cJsCohzhhJ63",
        "outputId": "1a8aa42c-6064-47e3-e31b-9b956ddad6c8"
      },
      "execution_count": 28,
      "outputs": [
        {
          "output_type": "execute_result",
          "data": {
            "text/plain": [
              "dict_keys(['loss', 'accuracy', 'precision', 'recall', 'val_loss', 'val_accuracy', 'val_precision', 'val_recall'])"
            ]
          },
          "metadata": {},
          "execution_count": 28
        }
      ]
    },
    {
      "cell_type": "code",
      "source": [
        "plt.plot(history.history['accuracy'], color='b')\n",
        "plt.plot(history.history['val_accuracy'], color='r')\n",
        "\n",
        "plt.title('Accuracy')\n",
        "plt.xlabel('Epochs')\n",
        "plt.ylabel('Accuracy')\n",
        "plt.legend('Training', 'Validation')\n",
        "\n",
        "plt.show()"
      ],
      "metadata": {
        "colab": {
          "base_uri": "https://localhost:8080/",
          "height": 295
        },
        "id": "PO4fng56hNOf",
        "outputId": "680ec8db-ec4e-4c16-9b45-b061351263ce"
      },
      "execution_count": 29,
      "outputs": [
        {
          "output_type": "display_data",
          "data": {
            "text/plain": [
              "<Figure size 432x288 with 1 Axes>"
            ],
            "image/png": "[encoded data removed]"
          },
          "metadata": {
            "needs_background": "light"
          }
        }
      ]
    },
    {
      "cell_type": "code",
      "source": [
        "plt.plot(history.history['loss'], color='g')\n",
        "plt.plot(history.history['val_loss'], color='r')\n",
        "\n",
        "plt.title('Loss')\n",
        "plt.xlabel('Epochs')\n",
        "plt.ylabel('loss')\n",
        "plt.legend('Training', 'Validation')\n",
        "\n",
        "plt.show()"
      ],
      "metadata": {
        "colab": {
          "base_uri": "https://localhost:8080/",
          "height": 295
        },
        "id": "PDtbAo-WhQNt",
        "outputId": "13f2ef23-a54f-4751-d361-76eaa6e17cee"
      },
      "execution_count": 30,
      "outputs": [
        {
          "output_type": "display_data",
          "data": {
            "text/plain": [
              "<Figure size 432x288 with 1 Axes>"
            ],
            "image/png": "[encoded data removed]"
          },
          "metadata": {
            "needs_background": "light"
          }
        }
      ]
    },
    {
      "cell_type": "markdown",
      "source": [
        "# Test Model"
      ],
      "metadata": {
        "id": "E9fYjMGRhcGX"
      }
    },
    {
      "cell_type": "code",
      "source": [
        "test['text'] = custom_tokenize(test['text'])"
      ],
      "metadata": {
        "id": "-mC0pOEDhdm_"
      },
      "execution_count": 31,
      "outputs": []
    },
    {
      "cell_type": "code",
      "source": [
        "import random\n",
        "\n",
        "random_num = random.randint(0, (3263-1))\n",
        "\n",
        "data = test['text'][random_num]\n",
        "\n",
        "input_data = vectorize_layer(data)\n",
        "\n",
        "predictions = model.predict(np.expand_dims(input_data, 0))\n",
        "\n",
        "print(data)\n",
        "print(predictions)"
      ],
      "metadata": {
        "colab": {
          "base_uri": "https://localhost:8080/"
        },
        "id": "ZVGE1fMqhgBp",
        "outputId": "b960f3da-4a3a-4a73-9d9e-e68c41504697"
      },
      "execution_count": 32,
      "outputs": [
        {
          "output_type": "stream",
          "name": "stdout",
          "text": [
            "b'residents set up sign as tribute to families who lost their lives in the thane building collapse the unfortun  '\n",
            "[[0.96251273]]\n"
          ]
        }
      ]
    },
    {
      "cell_type": "code",
      "source": [
        "value = predictions[0][0]\n",
        "value > 0.5"
      ],
      "metadata": {
        "colab": {
          "base_uri": "https://localhost:8080/"
        },
        "id": "g9tqccdbhho_",
        "outputId": "64507841-644d-4b21-96cb-06fdae9a4100"
      },
      "execution_count": 33,
      "outputs": [
        {
          "output_type": "execute_result",
          "data": {
            "text/plain": [
              "True"
            ]
          },
          "metadata": {},
          "execution_count": 33
        }
      ]
    },
    {
      "cell_type": "code",
      "source": [
        "if value>0.5 or value == 0.5:\n",
        "    print('Disaster Tweets')\n",
        "elif value < 0.5:\n",
        "    print('Not a Disaster Tweets')"
      ],
      "metadata": {
        "colab": {
          "base_uri": "https://localhost:8080/"
        },
        "id": "uDazjCrKhjPg",
        "outputId": "ca8a088b-9c5d-470a-8610-6264d66fbb53"
      },
      "execution_count": 34,
      "outputs": [
        {
          "output_type": "stream",
          "name": "stdout",
          "text": [
            "Disaster Tweets\n"
          ]
        }
      ]
    },
    {
      "cell_type": "markdown",
      "source": [
        "# Submitting"
      ],
      "metadata": {
        "id": "n7rqL5FciCTy"
      }
    },
    {
      "cell_type": "code",
      "source": [
        "submission = !gdown -- 10O8-jdDN_Y07C5IJ93yhG762FLiklpOf"
      ],
      "metadata": {
        "id": "h61Uf9NCiFPa"
      },
      "execution_count": 35,
      "outputs": []
    },
    {
      "cell_type": "code",
      "source": [
        "submit_data = test['text']\n",
        "input_submit = vectorize_layer(submit_data)\n",
        "prediksi = model.predict(input_submit)"
      ],
      "metadata": {
        "id": "PEpXGWCriNx4"
      },
      "execution_count": 36,
      "outputs": []
    },
    {
      "cell_type": "code",
      "source": [
        "prediksi_target = []\n",
        "for pred in prediksi:\n",
        "    if pred >= 0.5:\n",
        "        prediksi_target.append(1)\n",
        "    else:\n",
        "        prediksi_target.append(0)"
      ],
      "metadata": {
        "id": "NNHJgwd4ihl5"
      },
      "execution_count": 37,
      "outputs": []
    },
    {
      "cell_type": "code",
      "source": [
        "submission = pd.DataFrame({'id':test['id'].values.tolist(), 'target':prediksi_target})"
      ],
      "metadata": {
        "id": "ee4-WJ8Bij6U"
      },
      "execution_count": 38,
      "outputs": []
    },
    {
      "cell_type": "code",
      "source": [
        "submission.to_csv('submission.csv', index=False)"
      ],
      "metadata": {
        "id": "ZVuSTXjPil4N"
      },
      "execution_count": 39,
      "outputs": []
    }
  ]
}